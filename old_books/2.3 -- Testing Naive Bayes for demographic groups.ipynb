{
 "cells": [
  {
   "cell_type": "markdown",
   "id": "19eddc9d",
   "metadata": {},
   "source": [
    "# Employing Naive Bayes Classifiers to determine demographic labels"
   ]
  },
  {
   "cell_type": "markdown",
   "id": "95556c69",
   "metadata": {},
   "source": [
    "In this notebook we will begin the process of classifying our households, such that we might populate recommendations for each one based on their real attributes."
   ]
  },
  {
   "cell_type": "markdown",
   "id": "42a97c8f",
   "metadata": {},
   "source": [
    "To do so, I'd like to train models using the labeled data -- the households for which we already have demographic information. This classifies as Supervised Learning, because we have accurate labels already."
   ]
  },
  {
   "cell_type": "code",
   "execution_count": 1,
   "id": "f00b1bf6",
   "metadata": {},
   "outputs": [],
   "source": [
    "import pandas as pd\n",
    "import numpy as np\n",
    "import matplotlib.pyplot as plt\n",
    "\n",
    "\n",
    "import dtcj\n",
    "from sklearn.model_selection import train_test_split\n",
    "from sklearn.naive_bayes import GaussianNB, MultinomialNB, BernoulliNB\n",
    "\n",
    "\n",
    "from sklearn.preprocessing import MinMaxScaler, StandardScaler"
   ]
  },
  {
   "cell_type": "code",
   "execution_count": 2,
   "id": "2d020bc3",
   "metadata": {},
   "outputs": [],
   "source": [
    "# loading data\n",
    "demo = dtcj.load_demo()\n",
    "\n",
    "merged = dtcj.load_merged()\n",
    "\n",
    "hh_agg = dtcj.load_hh_agg(merged)"
   ]
  },
  {
   "cell_type": "code",
   "execution_count": 3,
   "id": "7fa96f30",
   "metadata": {
    "code_folding": []
   },
   "outputs": [
    {
     "name": "stdout",
     "output_type": "stream",
     "text": [
      "single_couple_family\n",
      "alpha: 0.005 score 0.36318407960199006\n",
      "alpha: 0.05 score 0.36318407960199006\n",
      "alpha: 0.5 score 0.36318407960199006\n",
      "alpha: 1 score 0.36318407960199006\n",
      "alpha: 10 score 0.36318407960199006\n",
      "alpha: 100 score 0.36318407960199006\n",
      "alpha: 1000 score 0.3582089552238806\n",
      "alpha: 100000 score 0.39800995024875624\n",
      "alpha: 1000000000 score 0.39800995024875624\n"
     ]
    }
   ],
   "source": [
    "def test_Multinomial_NB():\n",
    "    \n",
    "    # for each of our targets\n",
    "    for target in ['single_couple_family']:\n",
    "        print(target)\n",
    "        # define feature space;\n",
    "            # remove data-leaked features \n",
    "            # negative values to positive\n",
    "            # multi-collinearity? \n",
    "            # add target column as the last column.\n",
    "        test_hh_agg = abs(hh_agg.drop(['R', 'F', 'M', 'RFM', 'RFM Bins'], axis=1))\n",
    "        df = test_hh_agg.merge(demo[['household_key', target]], on='household_key')\n",
    "\n",
    "        # set feature space and target variable\n",
    "        X = df.iloc[:, :-1].values\n",
    "        y = df.iloc[:, -1].values\n",
    "\n",
    "        # train test split the data -- employing stratify. \n",
    "        X_train, X_test, y_train, y_test = train_test_split(X, y, stratify=y)\n",
    "\n",
    "        # hyperparameter optimization\n",
    "        for alpha in [0.005, 0.05, 0.5, 1, 10, 100, 1000, 100000, 1000000000]:\n",
    "            # Instatiate our model\n",
    "            mnbmodel = MultinomialNB(alpha=alpha)\n",
    "            # Fit our model\n",
    "            mnbmodel.fit(X_train, y_train)\n",
    "\n",
    "            # simple print for results\n",
    "            print('alpha:', alpha,  'score', mnbmodel.score(X_test, y_test))\n",
    "\n",
    "test_Multinomial_NB() # this is calculating the target single_couple_family"
   ]
  },
  {
   "cell_type": "code",
   "execution_count": 4,
   "id": "80676da1",
   "metadata": {
    "code_folding": []
   },
   "outputs": [
    {
     "name": "stdout",
     "output_type": "stream",
     "text": [
      "income_50K+ 0.572139303482587\n",
      "age_45+ 0.5074626865671642\n"
     ]
    }
   ],
   "source": [
    "def test_Gaussian_NB():\n",
    "    \n",
    "    for target in ['income_50K+', 'age_45+']:\n",
    "    # define feature space; remove data-leaked features and multi-collinearity?   \n",
    "        test_hh_agg = abs(hh_agg.drop(['R', 'F', 'M', 'RFM', 'RFM Bins'], axis=1))\n",
    "        df = test_hh_agg.merge(demo[['household_key', target]], on='household_key')\n",
    "\n",
    "        # set features and target\n",
    "        X = df.iloc[:, :-1].values\n",
    "        y = df.iloc[:, -1].values\n",
    "\n",
    "\n",
    "        # train test split\n",
    "        X_train, X_test, y_train, y_test = train_test_split(X, y, stratify=y)\n",
    "\n",
    "        # scale the data\n",
    "        ss = StandardScaler().fit(X_train)\n",
    "        X_train = ss.transform(X_train)\n",
    "        X_test = ss.transform(X_test)\n",
    "\n",
    "        # hyperparameter optimization\n",
    "\n",
    "        # Instatiate our model\n",
    "        gnbmodel = GaussianNB()\n",
    "        # Fit our model\n",
    "        gnbmodel.fit(X_train, y_train)\n",
    "\n",
    "        # simple print for results\n",
    "        print(target, gnbmodel.score(X_test, y_test))\n",
    "\n",
    "test_Gaussian_NB() # this is calculating the target income_50K+"
   ]
  },
  {
   "cell_type": "code",
   "execution_count": null,
   "id": "ab49f05d",
   "metadata": {},
   "outputs": [],
   "source": []
  },
  {
   "cell_type": "code",
   "execution_count": 5,
   "id": "5773b694",
   "metadata": {
    "code_folding": [
     0
    ]
   },
   "outputs": [
    {
     "name": "stdout",
     "output_type": "stream",
     "text": [
      "single\n",
      "alpha: 0.005 score 0.5522388059701493\n",
      "alpha: 0.05 score 0.5522388059701493\n",
      "alpha: 0.5 score 0.5522388059701493\n",
      "alpha: 1 score 0.5522388059701493\n",
      "alpha: 10 score 0.5522388059701493\n",
      "alpha: 100 score 0.5771144278606966\n",
      "alpha: 1000 score 0.582089552238806\n",
      "alpha: 100000 score 0.582089552238806\n",
      "alpha: 1000000000 score 0.582089552238806\n",
      "couple\n",
      "alpha: 0.005 score 0.5522388059701493\n",
      "alpha: 0.05 score 0.5522388059701493\n",
      "alpha: 0.5 score 0.5522388059701493\n",
      "alpha: 1 score 0.5472636815920398\n",
      "alpha: 10 score 0.5671641791044776\n",
      "alpha: 100 score 0.5671641791044776\n",
      "alpha: 1000 score 0.6218905472636815\n",
      "alpha: 100000 score 0.6218905472636815\n",
      "alpha: 1000000000 score 0.6218905472636815\n",
      "has_kids\n",
      "alpha: 0.005 score 0.6318407960199005\n",
      "alpha: 0.05 score 0.6318407960199005\n",
      "alpha: 0.5 score 0.6318407960199005\n",
      "alpha: 1 score 0.6318407960199005\n",
      "alpha: 10 score 0.6368159203980099\n",
      "alpha: 100 score 0.6318407960199005\n",
      "alpha: 1000 score 0.7014925373134329\n",
      "alpha: 100000 score 0.6865671641791045\n",
      "alpha: 1000000000 score 0.6865671641791045\n"
     ]
    }
   ],
   "source": [
    "def test_Bernoulli_NB():\n",
    "        \n",
    "    for target in ['single', 'couple', 'has_kids']:\n",
    "        print(target)\n",
    "    # define feature space; remove data-leaked features and multi-collinearity?   \n",
    "        test_hh_agg = abs(hh_agg.drop(['R', 'F', 'M', 'RFM', 'RFM Bins'], axis=1))\n",
    "        df = test_hh_agg.merge(demo[['household_key', target]], on='household_key')\n",
    "\n",
    "        # set features and target\n",
    "        X = df.iloc[:, :-1].values\n",
    "        y = df.iloc[:, -1].values\n",
    "\n",
    "\n",
    "        # train test split\n",
    "        X_train, X_test, y_train, y_test = train_test_split(X, y)\n",
    "\n",
    "        # scale the data\n",
    "        ss = StandardScaler().fit(X_train)\n",
    "        X_train = ss.transform(X_train)\n",
    "        X_test = ss.transform(X_test)\n",
    "\n",
    "        # hyperparameter optimization\n",
    "        for alpha in [0.005, 0.05, 0.5, 1, 10, 100, 1000, 100000, 1000000000]:\n",
    "            # Instatiate our model\n",
    "            bnbmodel = BernoulliNB(alpha=alpha)\n",
    "            # Fit our model\n",
    "            bnbmodel.fit(X_train, y_train)\n",
    "\n",
    "            # simple print for results\n",
    "            print('alpha:', alpha,  'score', bnbmodel.score(X_test, y_test))\n",
    "            \n",
    "test_Bernoulli_NB()"
   ]
  },
  {
   "cell_type": "code",
   "execution_count": null,
   "id": "7c9d7631",
   "metadata": {},
   "outputs": [],
   "source": []
  }
 ],
 "metadata": {
  "kernelspec": {
   "display_name": "Python 3 (ipykernel)",
   "language": "python",
   "name": "python3"
  },
  "language_info": {
   "codemirror_mode": {
    "name": "ipython",
    "version": 3
   },
   "file_extension": ".py",
   "mimetype": "text/x-python",
   "name": "python",
   "nbconvert_exporter": "python",
   "pygments_lexer": "ipython3",
   "version": "3.9.7"
  },
  "toc": {
   "base_numbering": 1,
   "nav_menu": {},
   "number_sections": true,
   "sideBar": true,
   "skip_h1_title": false,
   "title_cell": "Table of Contents",
   "title_sidebar": "Contents",
   "toc_cell": false,
   "toc_position": {},
   "toc_section_display": true,
   "toc_window_display": false
  },
  "varInspector": {
   "cols": {
    "lenName": 16,
    "lenType": 16,
    "lenVar": 40
   },
   "kernels_config": {
    "python": {
     "delete_cmd_postfix": "",
     "delete_cmd_prefix": "del ",
     "library": "var_list.py",
     "varRefreshCmd": "print(var_dic_list())"
    },
    "r": {
     "delete_cmd_postfix": ") ",
     "delete_cmd_prefix": "rm(",
     "library": "var_list.r",
     "varRefreshCmd": "cat(var_dic_list()) "
    }
   },
   "types_to_exclude": [
    "module",
    "function",
    "builtin_function_or_method",
    "instance",
    "_Feature"
   ],
   "window_display": false
  }
 },
 "nbformat": 4,
 "nbformat_minor": 5
}
